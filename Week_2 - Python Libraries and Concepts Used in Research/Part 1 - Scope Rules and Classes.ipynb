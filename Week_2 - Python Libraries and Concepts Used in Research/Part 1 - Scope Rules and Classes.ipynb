{
 "cells": [
  {
   "cell_type": "markdown",
   "metadata": {},
   "source": [
    "# CC 2.1.1: Scope Rules\n",
    "## Scope Rules: Question 1\n",
    "1/1 point (graded)\n",
    "\n",
    "Consider the following code:\n",
    "\n",
    "<code>def increment(n): \n",
    "   n += 1 \n",
    "   print(n) \n",
    "\n",
    "n = 1 \n",
    "increment(n) \n",
    "print(n)</code> \n",
    "\n",
    "What will this print? Note that here, we separate lines of output with \"; \"\n",
    "\n",
    "2 ; 1 correct"
   ]
  },
  {
   "cell_type": "markdown",
   "metadata": {},
   "source": [
    "## Scope Rules: Question 2\n",
    "1/1 point (graded)\n",
    "\n",
    "Consider the following code:\n",
    "\n",
    "<code>def increment(n):\n",
    "   n += 1\n",
    "   #blank#</code>\n",
    "\n",
    "<code>n = 1\n",
    "while n < 10:\n",
    "   n = increment(n)\n",
    "print(n)</code>\n",
    "\n",
    "Fill in the <code>#blank#</code> to ensure this prints 10.\n",
    "\n",
    "Enter your code here.\n",
    "\n",
    "\n",
    "<code>return n</code>\n",
    "  correct  "
   ]
  },
  {
   "cell_type": "markdown",
   "metadata": {},
   "source": [
    "# CC 2.1.2: Classes and Object-Oriented Programming\n",
    "## Classes and Object-Oriented Programming: Question 1\n",
    "1/1 point (graded)\n",
    "\n",
    "Consider the following code:\n",
    "\n",
    "<code>class NewList(list): \n",
    "   def remove_max(self): \n",
    "     self.remove(max(self)) \n",
    "   def append_sum(self): \n",
    "     self.append(sum(self)) \n",
    "\n",
    "x = NewList([1,2,3]) \n",
    "while max(x) < 10: \n",
    "   x.remove_max() \n",
    "   x.append_sum() \n",
    "print(x)</code>\n",
    "\n",
    "What will this print?\n",
    "\n",
    "Nothing: this program will never halt. correct"
   ]
  },
  {
   "cell_type": "code",
   "execution_count": null,
   "metadata": {
    "collapsed": true
   },
   "outputs": [],
   "source": []
  }
 ],
 "metadata": {
  "kernelspec": {
   "display_name": "Python [conda env:python3]",
   "language": "python",
   "name": "conda-env-python3-py"
  },
  "language_info": {
   "codemirror_mode": {
    "name": "ipython",
    "version": 3
   },
   "file_extension": ".py",
   "mimetype": "text/x-python",
   "name": "python",
   "nbconvert_exporter": "python",
   "pygments_lexer": "ipython3",
   "version": "3.5.2"
  }
 },
 "nbformat": 4,
 "nbformat_minor": 0
}
