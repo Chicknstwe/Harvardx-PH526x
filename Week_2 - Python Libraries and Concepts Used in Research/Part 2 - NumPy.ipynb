{
 "cells": [
  {
   "cell_type": "markdown",
   "metadata": {},
   "source": [
    "# CC 2.2.1: Introduction to NumPy Arrays\n",
    "## Introduction to NumPy Arrays: Question 1\n",
    "1/1 point (graded)\n",
    "\n",
    "True or False: a <code>numpy</code> array's length may be edited after being created.\n",
    "\n",
    "False correct"
   ]
  },
  {
   "cell_type": "markdown",
   "metadata": {},
   "source": [
    "## Introduction to NumPy Arrays: Question 2\n",
    "1/1 point (graded)\n",
    "\n",
    "What code will produce the following object?\n",
    "\n",
    "<code>numpy.array([0., 0., 0., 0., 0.])\n",
    "\n",
    "numpy.zeros(5)</code> correct"
   ]
  },
  {
   "cell_type": "markdown",
   "metadata": {},
   "source": [
    "## Introduction to NumPy Arrays: Question 3\n",
    "1/1 point (graded)\n",
    "\n",
    "Consider the following code:\n",
    "\n",
    "<code>x = numpy.array([[3,6],[5,7]]) \n",
    "y = x.transpose() \n",
    "print(y)</code>\n",
    "\n",
    "What does this print?\n",
    "\n",
    "<code>array([[3 5],[6 7]])</code> correct"
   ]
  },
  {
   "cell_type": "markdown",
   "metadata": {},
   "source": [
    "# CC 2.2.2: Slicing NumPy Arrays\n",
    "## Slicing NumPy Arrays: Question 1\n",
    "1/1 point (graded)\n",
    "\n",
    "Consider the following code:\n",
    "\n",
    "<code>x = np.array([1,2,5]) \n",
    "x[1:2]</code>\n",
    "\n",
    "What does this return?\n",
    "\n",
    "<code>np.array([2])</code> correct"
   ]
  },
  {
   "cell_type": "markdown",
   "metadata": {},
   "source": [
    "## Slicing NumPy Arrays: Question 2\n",
    "1/1 point (graded)\n",
    "\n",
    "Consider the following code:\n",
    "\n",
    "<code>a = np.array([1,2]) \n",
    "b = np.array([3,4,5]) \n",
    "a + b</code>\n",
    "\n",
    "This code contains an error. correct"
   ]
  },
  {
   "cell_type": "markdown",
   "metadata": {},
   "source": [
    "# CC 2.2.3: Indexing NumPy Arrays\n",
    "## Indexing NumPy Arrays: Question 1\n",
    "1/1 point (graded)\n",
    "\n",
    "Consider the following code:\n",
    "\n",
    "<code>a = np.array([1,2]) \n",
    "b = np.array([3,4,5]) \n",
    "b[a]</code>\n",
    "\n",
    "What does this return?\n",
    "\n",
    "<code>np.array([4, 5])</code> correct"
   ]
  },
  {
   "cell_type": "markdown",
   "metadata": {},
   "source": [
    "## Indexing NumPy Arrays: Question 2\n",
    "1/1 point (graded)\n",
    "\n",
    "Consider again the above code, as well as the following:\n",
    "\n",
    "<code>c = b[1:] \n",
    "b[a] is c</code>\n",
    "\n",
    "What does this return?\n",
    "\n",
    "<code>False</code> correct"
   ]
  },
  {
   "cell_type": "markdown",
   "metadata": {},
   "source": [
    "# CC 2.2.4: Building and Examining NumPy Arrays\n",
    "## Building and Examining NumPy Arrays: Question 1\n",
    "1/1 point (graded)\n",
    "\n",
    "Consider the following code:\n",
    "\n",
    "<code>x=20 \n",
    "not np.any([x%i == 0 for i in range(2, x)])</code>\n",
    "\n",
    "What does the above code do?\n",
    "\n",
    "Finds whether x is prime. correct"
   ]
  }
 ],
 "metadata": {
  "kernelspec": {
   "display_name": "Python [conda env:python3]",
   "language": "python",
   "name": "conda-env-python3-py"
  },
  "language_info": {
   "codemirror_mode": {
    "name": "ipython",
    "version": 3
   },
   "file_extension": ".py",
   "mimetype": "text/x-python",
   "name": "python",
   "nbconvert_exporter": "python",
   "pygments_lexer": "ipython3",
   "version": "3.5.2"
  }
 },
 "nbformat": 4,
 "nbformat_minor": 0
}
