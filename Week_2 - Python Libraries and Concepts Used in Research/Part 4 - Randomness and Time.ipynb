{
 "cells": [
  {
   "cell_type": "markdown",
   "metadata": {},
   "source": [
    "# CC 2.4.1: Simulating Randomness\n",
    "## Simulating Randomness: Question 1\n",
    "1/1 point (graded)\n",
    "\n",
    "Use <code>random.choice</code> and range to generate a random integer from 0-9.\n",
    "\n",
    "\n",
    "Enter your code here.\n",
    "\n",
    "\n",
    "<code>random.choice(range(10))</code>\n",
    "  correct  "
   ]
  },
  {
   "cell_type": "markdown",
   "metadata": {},
   "source": [
    "## Simulating Randomness: Question 2\n",
    "1/1 point (graded)\n",
    "\n",
    "What will <code>random.choice(list([1,2,3,4]))</code> produce?\n",
    "\n",
    "A value from <code>1-4</code>, selected at random. correct"
   ]
  },
  {
   "cell_type": "markdown",
   "metadata": {},
   "source": [
    "## Simulating Randomness: Question 3\n",
    "1/1 point (graded)\n",
    "\n",
    "Which of the following lines of code sums random integers from 0-9?\n",
    "\n",
    "<code>sum(random.choice(range(10)) for i in range(10))</code> correct"
   ]
  },
  {
   "cell_type": "markdown",
   "metadata": {},
   "source": [
    "# CC 2.4.2: Examples Using Randomness\n",
    "## Examples Using Randomness: Question 1\n",
    "1/1 point (graded)\n",
    "\n",
    "What will <code>random.choice(list((1,2,3,4)))</code> do?\n",
    "\n",
    "Sample from the list <code>[1,2,3,4]</code>. correct"
   ]
  },
  {
   "cell_type": "markdown",
   "metadata": {},
   "source": [
    "## Examples Using Randomness: Question 2\n",
    "1/1 point (graded)\n",
    "\n",
    "What is the law of large numbers with respect to histograms?\n",
    "\n",
    "We expect the histogram of a sample to better reflect the distribution as the sample size increases. correct"
   ]
  },
  {
   "cell_type": "markdown",
   "metadata": {},
   "source": [
    "## Examples Using Randomness: Question 3\n",
    "1/1 point (graded)\n",
    "\n",
    "What is the Central Limit Theorem?\n",
    "\n",
    "The distribution of the sum of many random variables is approximately normal. correct"
   ]
  },
  {
   "cell_type": "markdown",
   "metadata": {},
   "source": [
    "# CC 2.4.3: Using the NumPy Random Module\n",
    "## Using the NumPy Random Module: Question 1\n",
    "1/1 point (graded)\n",
    "\n",
    "What does <code>numpy.random.random((5,2,3))</code> do?\n",
    "\n",
    "Generate a 5 x 2 x 3 NumPy array with random uniform values. correct"
   ]
  },
  {
   "cell_type": "markdown",
   "metadata": {},
   "source": [
    "## Using the NumPy Random Module: Question 2\n",
    "1/1 point (graded)\n",
    "\n",
    "What does <code>numpy.random.normal(1,2,3)</code> do?\n",
    "\n",
    "Generate 3 samples with mean 1 and standard deviation 2. correct"
   ]
  },
  {
   "cell_type": "markdown",
   "metadata": {},
   "source": [
    "## Using the NumPy Random Module: Question 3\n",
    "1/1 point (graded)\n",
    "\n",
    "What does <code>numpy.random.randint(1,5,(2,3))</code> do?\n",
    "\n",
    "Generate a 2 x 3 array with random integers from <code>1-4</code>. correct"
   ]
  },
  {
   "cell_type": "markdown",
   "metadata": {},
   "source": [
    "## Using the NumPy Random Module: Question 4\n",
    "1/1 point (graded)\n",
    "\n",
    "What is the dimension of <code>numpy.sum(numpy.random.randint(1,7,(100,10)), axis=0)</code>?\n",
    "\n",
    "10 correct"
   ]
  },
  {
   "cell_type": "markdown",
   "metadata": {},
   "source": [
    "# CC 2.4.4: Measuring Time\n",
    "## Measuring Time: Question 1\n",
    "1/1 point (graded)\n",
    "\n",
    "Consider the following code:\n",
    "\n",
    "<code>start_time = time.clock() \n",
    "stop_time = time.clock() \n",
    "stop_time - start_time</code>\n",
    "\n",
    "A <code>float</code> of the seconds between the two times. correct"
   ]
  },
  {
   "cell_type": "markdown",
   "metadata": {},
   "source": [
    "# CC 2.4.5: Random Walks\n",
    "## Random Walks: Question 1\n",
    "0/1 point (graded)\n",
    "\n",
    "How is the location for each step in a random walk related to the locations for other steps?\n",
    "\n",
    "They are random, and therefore unrelated. incorrect\n",
    "\n",
    "They are identical to the previous step, plus random noise. correct"
   ]
  },
  {
   "cell_type": "markdown",
   "metadata": {},
   "source": [
    "## Random Walks: Question 2\n",
    "0/1 point (graded)\n",
    "\n",
    "What does <code>np.concatenate</code> do?\n",
    "\n",
    "Takes any number of <code>np.array</code> arguments, and binds them along the <code>axis</code> argument. incorrect\n",
    "\n",
    "Takes an iterable of <code>np.arrays</code> as arguments, and binds them along the <code>axis</code> argument. correct"
   ]
  }
 ],
 "metadata": {
  "kernelspec": {
   "display_name": "Python [conda env:python3]",
   "language": "python",
   "name": "conda-env-python3-py"
  },
  "language_info": {
   "codemirror_mode": {
    "name": "ipython",
    "version": 3
   },
   "file_extension": ".py",
   "mimetype": "text/x-python",
   "name": "python",
   "nbconvert_exporter": "python",
   "pygments_lexer": "ipython3",
   "version": "3.5.2"
  }
 },
 "nbformat": 4,
 "nbformat_minor": 0
}
