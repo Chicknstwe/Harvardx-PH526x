{
 "cells": [
  {
   "cell_type": "markdown",
   "metadata": {},
   "source": [
    "# CC 2.3.1: Introduction to Matplotlib and Pyplot\n",
    "## Introduction to Matplotlib and Pyplot: Question 1\n",
    "1/1 point (graded)\n",
    "\n",
    "What does <code>plt.show()</code> do?\n",
    "\n",
    "Show a plot that is already created. correct"
   ]
  },
  {
   "cell_type": "markdown",
   "metadata": {},
   "source": [
    "## Introduction to Matplotlib and Pyplot: Question 2\n",
    "1/1 point (graded)\n",
    "\n",
    "What does <code>plt.plot([0,1,2],[0,1,4],\"rd-\")</code> do?\n",
    "\n",
    "A plot of two connected lines, with red diamonds at the junctures. correct"
   ]
  },
  {
   "cell_type": "markdown",
   "metadata": {},
   "source": [
    "# CC 2.3.3: Plotting Using Logarithmic Axes\n",
    "## Plotting Using Logarithmic Axes: Question 1\n",
    "1/1 point (graded)\n",
    "\n",
    "Consider the following code:\n",
    "\n",
    "<code>x=np.logspace(0,1,10) \n",
    "y=x**2 \n",
    "plt.loglog(x,y,\"bo-\")</code>\n",
    "\n",
    "What does this return?\n",
    "\n",
    "A logarithmic plot, which looks like a straight line with equal spacing. correct"
   ]
  },
  {
   "cell_type": "markdown",
   "metadata": {},
   "source": [
    "# CC 2.3.4: Generating Histograms\n",
    "## Generating Histograms: Question 1\n",
    "1/1 point (graded)\n",
    "\n",
    "Which will have wider bins, <code>np.linspace(-5,5,21)</code> or <code>np.linspace(-5,5,201)</code>?\n",
    "\n",
    "<code>np.linspace(-5,5,21)</code> correct"
   ]
  },
  {
   "cell_type": "markdown",
   "metadata": {},
   "source": [
    "## Generating Histograms: Question 2\n",
    "1/1 point (graded)\n",
    "\n",
    "What will <code>plt.subplot(333)</code> do?\n",
    "\n",
    "Create a smaller subplot in the topright of the figure. correct"
   ]
  },
  {
   "cell_type": "markdown",
   "metadata": {},
   "source": [
    "## Generating Histograms: Question 3\n",
    "1/1 point (graded)\n",
    "\n",
    "Will <code>plt.subplot(3, 3, 3)</code> create a different plot from <code>plt.subplot(333)</code>?\n",
    "\n",
    "No correct"
   ]
  }
 ],
 "metadata": {
  "anaconda-cloud": {},
  "kernelspec": {
   "display_name": "Python [conda env:python3]",
   "language": "python",
   "name": "conda-env-python3-py"
  },
  "language_info": {
   "codemirror_mode": {
    "name": "ipython",
    "version": 3
   },
   "file_extension": ".py",
   "mimetype": "text/x-python",
   "name": "python",
   "nbconvert_exporter": "python",
   "pygments_lexer": "ipython3",
   "version": "3.5.2"
  }
 },
 "nbformat": 4,
 "nbformat_minor": 0
}
