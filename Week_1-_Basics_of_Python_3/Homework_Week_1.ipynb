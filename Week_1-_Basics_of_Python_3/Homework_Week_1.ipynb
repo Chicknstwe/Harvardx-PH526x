{
 "cells": [
  {
   "cell_type": "markdown",
   "metadata": {},
   "source": [
    "<h1>Exercise 1a</h1>"
   ]
  },
  {
   "cell_type": "markdown",
   "metadata": {},
   "source": [
    "In this five-part exercise, we will count the frequency of each letter in a given string."
   ]
  },
  {
   "cell_type": "markdown",
   "metadata": {},
   "source": [
    "<h2>Instructions</h2>\n",
    "\n",
    "- The lowercase and uppercase English alphabet can be found using <code>ascii_letters</code> attribute in the <code>string</code> library. Store this as <code>alphabet</code>."
   ]
  },
  {
   "cell_type": "code",
   "execution_count": 2,
   "metadata": {
    "collapsed": true
   },
   "outputs": [],
   "source": [
    "# Write your code here!\n",
    "import string\n",
    "alphabet = string.ascii_letters"
   ]
  },
  {
   "cell_type": "markdown",
   "metadata": {},
   "source": [
    "<h1>Exercise 1b</h1>"
   ]
  },
  {
   "cell_type": "markdown",
   "metadata": {},
   "source": [
    "<h2>Instructions</h2>\n",
    "\n",
    "- The lower and upper cases of the English alphabet is stored as <code>alphabet</code>.\n",
    "- Consider the sentence 'Jim quickly realized that the beautiful gowns are expensive'. Create a dictionary <code>count_letters</code> with keys consisting of each unique letter in the sentence and values consisting of the number of times each letter is used in this sentence."
   ]
  },
  {
   "cell_type": "code",
   "execution_count": 3,
   "metadata": {
    "collapsed": false
   },
   "outputs": [],
   "source": [
    "sentence = 'Jim quickly realized that the beautiful gowns are expensive'\n",
    "alphabet += ' ' # My initial submission worked without this, but then it appears the grader changed to include spaces\n",
    "\n",
    "count_letters = {}\n",
    "#write your code here!\n",
    "for letter in sentence:\n",
    "    if letter in alphabet:\n",
    "        if letter not in count_letters.keys():\n",
    "            count_letters[letter] = 1\n",
    "        else:\n",
    "            count_letters[letter] += 1"
   ]
  },
  {
   "cell_type": "markdown",
   "metadata": {},
   "source": [
    "<h1>Exercise 1c</h1>"
   ]
  },
  {
   "cell_type": "markdown",
   "metadata": {},
   "source": [
    "<h2>Instructions</h2>\n",
    "\n",
    "- Rewrite your code from **1b** to make a function called <code>counter</code> that takes a string <code>input_string</code> and returns a dictionary of letter counts <code>count_letters</code>. If you were unable to complete **1b**, you can use the solution by selecting <code>Show Answer</code>.\n",
    "- Use your function to call <code>counter(sentence)</code>."
   ]
  },
  {
   "cell_type": "code",
   "execution_count": 5,
   "metadata": {
    "collapsed": false
   },
   "outputs": [
    {
     "data": {
      "text/plain": [
       "{'J': 1,\n",
       " 'a': 4,\n",
       " 'b': 1,\n",
       " 'c': 1,\n",
       " 'd': 1,\n",
       " 'e': 8,\n",
       " 'f': 1,\n",
       " 'g': 1,\n",
       " 'h': 2,\n",
       " 'i': 5,\n",
       " 'k': 1,\n",
       " 'l': 3,\n",
       " 'm': 1,\n",
       " 'n': 2,\n",
       " 'o': 1,\n",
       " 'p': 1,\n",
       " 'q': 1,\n",
       " 'r': 2,\n",
       " 's': 2,\n",
       " 't': 4,\n",
       " 'u': 3,\n",
       " 'v': 1,\n",
       " 'w': 1,\n",
       " 'x': 1,\n",
       " 'y': 1,\n",
       " 'z': 1}"
      ]
     },
     "execution_count": 5,
     "metadata": {},
     "output_type": "execute_result"
    }
   ],
   "source": [
    "sentence = 'Jim quickly realized that the beautiful gowns are expensive'\n",
    "\n",
    "# Create your function here!\n",
    "def counter(input_string):\n",
    "    count_letters = {}\n",
    "    for char in input_string:\n",
    "        if char in alphabet:\n",
    "            if char not in count_letters.keys():\n",
    "                count_letters[char] = 1\n",
    "            else:\n",
    "                count_letters[char] += 1\n",
    "    return count_letters\n",
    "    \n",
    "counter(sentence)"
   ]
  },
  {
   "cell_type": "markdown",
   "metadata": {},
   "source": [
    "<h1>Exercise 1d</h1>"
   ]
  },
  {
   "cell_type": "markdown",
   "metadata": {},
   "source": [
    "<h2>Instructions</h2>\n",
    "\n",
    "- Abraham Lincoln was a president during the American Civil War. His famous 1863 Gettysburg Address has been stored as <code>address</code>, and the <code>counter</code> function defined in part **1c** has been loaded. Use these to return a dictionary consisting of the count of each letter in this address, and save this as <code>address_count</code>.\n",
    "- Print <code>address_count</code>."
   ]
  },
  {
   "cell_type": "code",
   "execution_count": 6,
   "metadata": {
    "collapsed": true
   },
   "outputs": [],
   "source": [
    "address = \"Fourscore and seven years ago our fathers brought forth, on this continent, a new nation, conceived in liberty, and dedicated to the proposition that all men are created equal. Now we are engaged in a great civil war, testing whether that nation, or any nation so conceived, and so dedicated, can long endure. We are met on a great battle-field of that war. We have come to dedicate a portion of that field, as a final resting-place for those who here gave their lives, that that nation might live. It is altogether fitting and proper that we should do this. But, in a larger sense, we cannot dedicate, we cannot consecrate—we cannot hallow—this ground. The brave men, living and dead, who struggled here, have consecrated it far above our poor power to add or detract. The world will little note, nor long remember what we say here, but it can never forget what they did here. It is for us the living, rather, to be dedicated here to the unfinished work which they who fought here have thus far so nobly advanced. It is rather for us to be here dedicated to the great task remaining before us—that from these honored dead we take increased devotion to that cause for which they here gave the last full measure of devotion—that we here highly resolve that these dead shall not have died in vain—that this nation, under God, shall have a new birth of freedom, and that government of the people, by the people, for the people, shall not perish from the earth.\""
   ]
  },
  {
   "cell_type": "code",
   "execution_count": 7,
   "metadata": {
    "collapsed": false
   },
   "outputs": [
    {
     "name": "stdout",
     "output_type": "stream",
     "text": [
      "{'m': 13, 's': 44, 'n': 76, 'T': 2, 'e': 167, 'a': 102, 'h': 81, 'k': 3, 'l': 42, 'v': 24, 'p': 15, 'g': 27, 'I': 3, 'N': 1, 'd': 58, 'G': 1, 'u': 21, 't': 124, 'q': 1, 'c': 31, 'b': 13, 'W': 2, 'F': 1, 'f': 26, 'i': 65, 'w': 26, 'y': 10, 'B': 1, 'r': 80, 'o': 93}\n"
     ]
    }
   ],
   "source": [
    "# Write your code here!\n",
    "address_count = counter(address)\n",
    "print(address_count)"
   ]
  },
  {
   "cell_type": "markdown",
   "metadata": {},
   "source": [
    "<h1>Exercise 1e</h1>"
   ]
  },
  {
   "cell_type": "markdown",
   "metadata": {},
   "source": [
    "<h2>Instructions</h2>\n",
    "\n",
    "- What is the most common letter used in the Gettysburg Address?\n",
    "- Store this letter as <code>most_frequent_letter</code>, and print your answer."
   ]
  },
  {
   "cell_type": "code",
   "execution_count": 8,
   "metadata": {
    "collapsed": false
   },
   "outputs": [
    {
     "name": "stdout",
     "output_type": "stream",
     "text": [
      "e\n"
     ]
    }
   ],
   "source": [
    "# write your code here!\n",
    "max_count = 0\n",
    "for i in address_count:\n",
    "    if address_count[i] > max_count:\n",
    "        max_count = address_count[i]\n",
    "        most_frequent_letter = i\n",
    "print(most_frequent_letter)"
   ]
  },
  {
   "cell_type": "markdown",
   "metadata": {},
   "source": [
    "<h1>Exercise 2a</h1>"
   ]
  },
  {
   "cell_type": "markdown",
   "metadata": {},
   "source": [
    "The ratio of the areas of a circle and the square inscribing it is <code>pi / 4</code>. In this six-part exercise, we will find a way to approximate this value."
   ]
  },
  {
   "cell_type": "markdown",
   "metadata": {},
   "source": [
    "<h2>Instructions</h2>\n",
    "\n",
    "- Using the math library, calculate and print the value of pi / 4."
   ]
  },
  {
   "cell_type": "code",
   "execution_count": 9,
   "metadata": {
    "collapsed": false
   },
   "outputs": [
    {
     "name": "stdout",
     "output_type": "stream",
     "text": [
      "0.7853981633974483\n"
     ]
    }
   ],
   "source": [
    "# write your code here!\n",
    "import math\n",
    "print(math.pi/4)"
   ]
  },
  {
   "cell_type": "markdown",
   "metadata": {},
   "source": [
    "<h1>Exercise 2b</h1>"
   ]
  },
  {
   "cell_type": "markdown",
   "metadata": {},
   "source": [
    "<h2>Instructions</h2>\n",
    "\n",
    "- Using <code>random.uniform</code>, create a function <code>rand()</code> that generates a single <code>float</code> between <code>-1</code> and <code>1</code>.\n",
    "- Call <code>rand()</code> once. So we can check your solution, we will use <code>random.seed</code> to fix the value called by your function."
   ]
  },
  {
   "cell_type": "code",
   "execution_count": 10,
   "metadata": {
    "collapsed": false
   },
   "outputs": [
    {
     "data": {
      "text/plain": [
       "-0.7312715117751976"
      ]
     },
     "execution_count": 10,
     "metadata": {},
     "output_type": "execute_result"
    }
   ],
   "source": [
    "import random\n",
    "\n",
    "random.seed(1) # This line fixes the value called by your function,\n",
    "               # and is used for answer-checking.\n",
    "\n",
    "def rand():\n",
    "   # define `rand` here!\n",
    "   return random.uniform(-1, 1)\n",
    "\n",
    "rand()"
   ]
  },
  {
   "cell_type": "markdown",
   "metadata": {},
   "source": [
    "<h1>Exercise 2c</h2>"
   ]
  },
  {
   "cell_type": "markdown",
   "metadata": {},
   "source": [
    "<h2>Instructions</h2>\n",
    "\n",
    "- The distance between two points <code>x</code> and <code>y</code> is the square root of the sum of squared differences along each dimension of <code>x</code> and <code>y</code>. Create a function <code>distance(x, y)</code> that takes two vectors and outputs the distance between them. Use your function to find the distance between <code>(0,0)</code> and <code>(1,1)</code>.\n",
    "- Print your answer."
   ]
  },
  {
   "cell_type": "code",
   "execution_count": 11,
   "metadata": {
    "collapsed": false
   },
   "outputs": [
    {
     "name": "stdout",
     "output_type": "stream",
     "text": [
      "1.4142135623730951\n"
     ]
    }
   ],
   "source": [
    "import math\n",
    "\n",
    "def distance(x, y):\n",
    "   # define your function here!\n",
    "   return math.sqrt((y[0] - x[0])**2 + (y[1] - x[1])**2)\n",
    "   \n",
    "print(distance((0,0), (1,1)))"
   ]
  },
  {
   "cell_type": "markdown",
   "metadata": {},
   "source": [
    "<h1>Exercise 2d</h1>"
   ]
  },
  {
   "cell_type": "markdown",
   "metadata": {},
   "source": [
    "<h2>Instructions</h2>\n",
    "\n",
    "- <code>distance(x, y)</code> is pre-loaded from part 2c. Make a function <code>in_circle(x, origin)</code> that uses <code>distance</code> to determine if a two-dimensional point falls within the the unit circle with a given origin. That is, find if a two-dimensional point has distance <code>``<1``</code> from the origin <code>(0,0)</code>.\n",
    "- Use your function to print whether the point <code>(1,1)</code> lies within the unit circle centered at <code>(0,0)</code>."
   ]
  },
  {
   "cell_type": "code",
   "execution_count": 12,
   "metadata": {
    "collapsed": false
   },
   "outputs": [
    {
     "name": "stdout",
     "output_type": "stream",
     "text": [
      "False\n"
     ]
    }
   ],
   "source": [
    "import random, math\n",
    "\n",
    "random.seed(1)\n",
    "\n",
    "def in_circle(x, origin = [0]*2):\n",
    "   # Define your function here!\n",
    "   return distance(x, origin) < 1\n",
    "\n",
    "print(in_circle((1,1)))"
   ]
  },
  {
   "cell_type": "markdown",
   "metadata": {},
   "source": [
    "<h1>Exercise 2e</h1>"
   ]
  },
  {
   "cell_type": "markdown",
   "metadata": {},
   "source": [
    "<h2>Instructions</h2>\n",
    "\n",
    "-  The functions <code>rand</code> and <code>in_circle</code> are defined from previous exercises. Using these functions, code is pre-entered that creates a list <code>x</code> of <code>R=10000</code> two-dimensional points. Create a list of <code>10000</code> booleans called <code>inside</code> that are <code>True</code> if and only if the point in <code>x</code> with that index falls within the unit circle. Make sure to use <code>in_circle!</code>\n",
    "-  Print the proportion of points within the circle. This proportion is an estimate of the ratio of the two areas!"
   ]
  },
  {
   "cell_type": "code",
   "execution_count": 13,
   "metadata": {
    "collapsed": false
   },
   "outputs": [
    {
     "name": "stdout",
     "output_type": "stream",
     "text": [
      "0.779\n"
     ]
    }
   ],
   "source": [
    "R = 10000\n",
    "x = []\n",
    "inside = []\n",
    "for i in range(R):\n",
    "    point = [rand(), rand()]\n",
    "    x.append(point)\n",
    "    # Enter your code here! #\n",
    "    inside.append(in_circle(point))\n",
    "\n",
    "# Enter your code here! #\n",
    "in_circ_count = 0\n",
    "for j in inside:\n",
    "    if j:\n",
    "        in_circ_count += 1\n",
    "print(in_circ_count/len(inside))"
   ]
  },
  {
   "cell_type": "markdown",
   "metadata": {
    "collapsed": true
   },
   "source": [
    "<h1>Exercise 2f</h1>"
   ]
  },
  {
   "cell_type": "markdown",
   "metadata": {},
   "source": [
    "<h2>Instructions</h2>\n",
    "\n",
    "- Note: <code>inside</code> and <code>R</code> are defined as in Exercise <code>2e</code>. Recall the true ratio of the area of of the unit circle to the area to the inscribing square is <code>pi / 4</code>.\n",
    "- Find and print the difference between this value and your estimate from part <code>2e</code>."
   ]
  },
  {
   "cell_type": "code",
   "execution_count": 14,
   "metadata": {
    "collapsed": false
   },
   "outputs": [
    {
     "name": "stdout",
     "output_type": "stream",
     "text": [
      "0.006398163397448253\n"
     ]
    }
   ],
   "source": [
    "# write your code here!\n",
    "in_circ_count = 0\n",
    "for i in inside:\n",
    "    if i:\n",
    "        in_circ_count += 1\n",
    "\n",
    "print((math.pi/4) - in_circ_count/len(inside))"
   ]
  },
  {
   "cell_type": "markdown",
   "metadata": {},
   "source": [
    "<h1>Exercise 3a</h1>"
   ]
  },
  {
   "cell_type": "markdown",
   "metadata": {},
   "source": [
    "A list of numbers can be very unsmooth, meaning very high numbers can be right next to very low numbers. This list may represent a smooth path in reality that is masked with random noise (for example, satellite trajectories with inaccurate transmission). One way to smooth the values in the list is to replace each value with the average of each value's neighbors, including the value itself."
   ]
  },
  {
   "cell_type": "markdown",
   "metadata": {},
   "source": [
    "<h2>Instructions</h2>\n",
    "\n",
    "- Let's make a function <code>moving_window_average(x, n_neighbors)</code> that takes a list <code>x</code> and the number of neighbors <code>n_neighbors</code> on either side to consider. For each value, the function computes the average of each value's neighbors, including themselves. Have the function return a list of these averaged values that is the same length as the original list. If there are not enough neighbors (for cases near the edge), substitute the original value as many times as there are missing neighbors.\n",
    "- Use your function to find the moving window sum of <code>x=[0,10,5,3,1,5]</code> and <code>n_neighbors=1</code>."
   ]
  },
  {
   "cell_type": "code",
   "execution_count": 15,
   "metadata": {
    "collapsed": false
   },
   "outputs": [
    {
     "name": "stdout",
     "output_type": "stream",
     "text": [
      "[3.3333333333333335, 5.0, 6.0, 3.0, 3.0, 3.6666666666666665]\n"
     ]
    }
   ],
   "source": [
    "import random\n",
    "\n",
    "random.seed(1)\n",
    "\n",
    "def moving_window_average(x, n_neighbors=1):\n",
    "    n = len(x)\n",
    "    width = n_neighbors*2 + 1\n",
    "    x = [x[0]]*n_neighbors + x + [x[-1]]*n_neighbors\n",
    "    # To complete the function,\n",
    "    # return a list of the mean of values from i to i+width for all values i from 0 to n-1.\n",
    "    y = []\n",
    "    for i in range(n_neighbors, len(x) - n_neighbors):\n",
    "        y.append((x[i] + x[i - n_neighbors] + x[i + n_neighbors])/width)\n",
    "    return y\n",
    "\n",
    "x=[0,10,5,3,1,5]\n",
    "print(moving_window_average(x, 1))"
   ]
  },
  {
   "cell_type": "markdown",
   "metadata": {},
   "source": [
    "<h1>Exercise 3b</h1>"
   ]
  },
  {
   "cell_type": "markdown",
   "metadata": {},
   "source": [
    "<h2>Instructions</h2>\n",
    "\n",
    "- Compute and store <code>R=1000</code> random values from 0-1 as <code>x</code>.\n",
    "- <code>moving_window_average(x, n_neighbors)</code> is pre-loaded into memory from <code>3a</code>. Compute the moving window average for <code>x</code> for the range of <code>n_neighbors 1-9</code>.\n",
    "- Store <code>x</code> as well as each of these averages as consecutive lists in a list called <code>Y</code>."
   ]
  },
  {
   "cell_type": "code",
   "execution_count": 16,
   "metadata": {
    "collapsed": false
   },
   "outputs": [
    {
     "name": "stdout",
     "output_type": "stream",
     "text": [
      "10\n"
     ]
    }
   ],
   "source": [
    "import random\n",
    "\n",
    "random.seed(1) # This line fixes the value called by your function,\n",
    "               # and is used for answer-checking.\n",
    "    \n",
    "# write your code here!\n",
    "R = 1000\n",
    "x = [random.uniform(0, 1) for y in range(R)]\n",
    "Y = []\n",
    "Y.append(x)\n",
    "for i in range(1, 10):\n",
    "    Y.append(moving_window_average(x, n_neighbors=i))\n",
    "print(len(Y))"
   ]
  },
  {
   "cell_type": "markdown",
   "metadata": {},
   "source": [
    "<h1>Exercise 3c</h1>"
   ]
  },
  {
   "cell_type": "markdown",
   "metadata": {},
   "source": [
    "<h2>Instructions</h2>\n",
    "\n",
    "- <code>moving_window_average(x, n_neighbors=2)</code> and <code>Y</code> are already loaded into memory. For each list in <code>Y</code>, calculate and store the range (the maximum minus the minimum) in a new list <code>ranges</code>.\n",
    "- Print your answer. As the window width increases, does the range of each list increase or decrease? Why do you think that is?"
   ]
  },
  {
   "cell_type": "code",
   "execution_count": 17,
   "metadata": {
    "collapsed": false
   },
   "outputs": [
    {
     "name": "stdout",
     "output_type": "stream",
     "text": [
      "[0.9973152343362711, 0.9128390185520854, 0.5396861064714327, 0.38044998841514305, 0.29200470407449747, 0.24140927130449924, 0.20874810007779962, 0.17525291631226206, 0.15824233609859426, 0.14375384075017753]\n"
     ]
    }
   ],
   "source": [
    "# write your code here!\n",
    "ranges = [max(i) - min(i) for i in Y]\n",
    "print(ranges)"
   ]
  },
  {
   "cell_type": "markdown",
   "metadata": {},
   "source": [
    "Great work! The range decreases, because the average smooths a larger number of neighbors. Because the numbers in the original list are just random, we expect the average of many of them to be roughly 1 / 2, and more averaging means more smoothness in this value."
   ]
  }
 ],
 "metadata": {
  "anaconda-cloud": {},
  "kernelspec": {
   "display_name": "Python [conda env:python3]",
   "language": "python",
   "name": "conda-env-python3-py"
  },
  "language_info": {
   "codemirror_mode": {
    "name": "ipython",
    "version": 3
   },
   "file_extension": ".py",
   "mimetype": "text/x-python",
   "name": "python",
   "nbconvert_exporter": "python",
   "pygments_lexer": "ipython3",
   "version": "3.5.2"
  }
 },
 "nbformat": 4,
 "nbformat_minor": 0
}
