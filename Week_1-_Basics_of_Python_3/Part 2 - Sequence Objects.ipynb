{
 "cells": [
  {
   "cell_type": "markdown",
   "metadata": {},
   "source": [
    "# CC 1.2.1: Sequences\n",
    "In these Comprehension Checks, we will review a range of Python topics, and do not expect you to know the answer without any aids.  As you answer these questions, feel free to use Python and the internet interactively to get the right answer!\n",
    "## Sequences: Question 1\n",
    "1/1 point (graded)\n",
    "\n",
    "Consider the following tuple and index <code>(1,2,3)[-0]</code>. What will this return?\n",
    "\n",
    "1 correct"
   ]
  },
  {
   "cell_type": "markdown",
   "metadata": {},
   "source": [
    "## Sequences: Question 2\n",
    "1/1 point (graded)\n",
    "Consider the following tuple and index <code>(1,2,3)[-0:0]</code>. What will this return?\n",
    "\n",
    "() correct"
   ]
  },
  {
   "cell_type": "markdown",
   "metadata": {},
   "source": [
    "# CC 1.2.2: Lists\n",
    "## Lists: Question 1\n",
    "1/1 point (graded)\n",
    "\n",
    "Consider again <code>x=[1,2,3]</code>. Which index corresponds to <code>2</code> in <code>x</code>?\n",
    "\n",
    "Enter your numeric answer here.\n",
    "\n",
    "\n",
    "1\n",
    "  correct  "
   ]
  },
  {
   "cell_type": "markdown",
   "metadata": {},
   "source": [
    "## Lists: Question 2\n",
    "1/1 point (graded)\n",
    "Consider a list <code>x=[1,2,3]</code>. Enter the code below for how you would use the append method to add the number <code>4</code> to the end of list <code>x</code>.\n",
    "\n",
    "Enter your code here.\n",
    "\n",
    "<code>x.append(4)</code>\n",
    "  correct  "
   ]
  },
  {
   "cell_type": "markdown",
   "metadata": {},
   "source": [
    "## Lists: Question 3\n",
    "1/1 point (graded)\n",
    "\n",
    "Why do list methods such as <code>reverse</code> and <code>sort</code> return nothing?\n",
    "\n",
    "They are in-place methods, meaning they alter the content of the original list. correct"
   ]
  },
  {
   "cell_type": "markdown",
   "metadata": {},
   "source": [
    "# CC 1.2.3: Tuples\n",
    "## Tuples: Question 1\n",
    "1/1 point (graded)\n",
    "\n",
    "Consider the tuple <code>x=(1,2,3)</code>.\n",
    "\n",
    "How could you add the integer <code>4</code> to the end of the tuple?\n",
    "\n",
    "This is impossible: tuples are immutable, so they can't be edited after they’ve been created. correct"
   ]
  },
  {
   "cell_type": "markdown",
   "metadata": {},
   "source": [
    "## Tuples: Question 2\n",
    "1/1 point (graded)\n",
    "\n",
    "Consider <code>x=(1,2,3)</code>. Use the <code>count</code> method to count the number of <code>3</code>s in <code>x</code>.\n",
    "\n",
    "Enter your code here.\n",
    "\n",
    "<code>x.count(3)</code>\n",
    "  correct  "
   ]
  },
  {
   "cell_type": "markdown",
   "metadata": {},
   "source": [
    "## Tuples: Question 3\n",
    "1/1 point (graded)\n",
    "\n",
    "Consider again <code>x=(1,2,3)</code>. Sum the numbers in <code>x</code> using a single function.\n",
    "\n",
    "Enter your code here.\n",
    "\n",
    "<code>sum(x)</code>\n",
    "  correct  "
   ]
  },
  {
   "cell_type": "markdown",
   "metadata": {},
   "source": [
    "## Tuples: Question 4\n",
    "1/1 point (graded)\n",
    "\n",
    "Which of the following prints type <code>tuple</code>?\n",
    "\n",
    "<code>type((2,))</code> correct"
   ]
  },
  {
   "cell_type": "markdown",
   "metadata": {},
   "source": [
    "# CC 1.2.4: Ranges\n",
    "## Ranges: Question 1\n",
    "1/1 point (graded)\n",
    "\n",
    "Why might you prefer to use a range over a list?\n",
    "\n",
    "Ranges do not instantiate their elements, making them more efficient in loops. correct"
   ]
  },
  {
   "cell_type": "markdown",
   "metadata": {},
   "source": [
    "# CC 1.2.5: Strings\n",
    "## Strings: Question 1\n",
    "2.0/2.0 points (graded)\n",
    "\n",
    "Which of the following expressions are valid?\n",
    "\n",
    "<code>2 + 2</code>\n",
    "\n",
    "<code>\"2\" +\"2\"</code>\n",
    "\n",
    "<code>2 * 2</code>\n",
    "\n",
    "<code>2 * \"2\"</code>"
   ]
  },
  {
   "cell_type": "markdown",
   "metadata": {},
   "source": [
    "## Strings: Question 2\n",
    "1/1 point (graded)\n",
    "\n",
    "Which of the following lines of code will fail to return the integers <code>0</code> through <code>9</code> in a single string?\n",
    "\n",
    "<code>str(range(10))</code> correct"
   ]
  },
  {
   "cell_type": "markdown",
   "metadata": {},
   "source": [
    "## Strings: Question 3\n",
    "1/1 point (graded)\n",
    "\n",
    "Can you find a string method that tests if the string <code>\"125,000\"</code> only contains digits?\n",
    "\n",
    "Enter your code that tests whether the string <code>\"125,000\"</code> contains only digits.\n",
    "\n",
    "\n",
    "<code>\"125,000\".isdigit()</code>\n",
    "  correct  "
   ]
  },
  {
   "cell_type": "markdown",
   "metadata": {},
   "source": [
    "# CC 1.2.6: Sets\n",
    "## Sets: Question 1\n",
    "1/1 point (graded)\n",
    "\n",
    "Let sets <code>x={1,2,3}</code> and <code>y={2,3,4}</code>. How could you get <code>{4}</code> from <code>x</code> and <code>y</code> using basic set operations?\n",
    "\n",
    "Enter your code here.\n",
    "\n",
    "\n",
    "<code>y - x</code>\n",
    "  correct  "
   ]
  },
  {
   "cell_type": "markdown",
   "metadata": {},
   "source": [
    "## Sets: Question 2\n",
    "1/1 point (graded)\n",
    "\n",
    "Consider again sets <code>x={1,2,3}</code> and <code>y={2,3,4}</code>. How could you get <code>{2, 3}</code> from <code>x</code> and <code>y</code> using basic set operations?\n",
    "\n",
    "Enter your code here.\n",
    "\n",
    "\n",
    "<code>y & x</code>\n",
    "  correct  "
   ]
  },
  {
   "cell_type": "markdown",
   "metadata": {},
   "source": [
    "## Sets: Question 3\n",
    "1/1 point (graded)\n",
    "\n",
    "Consider again sets <code>x={1,2,3}</code> and <code>y={2,3,4}</code>. How could you get <code>{1, 4}</code> from <code>x</code> and <code>y</code> using basic set operations?\n",
    "\n",
    "Enter your code here.\n",
    "\n",
    "\n",
    "<code>(y | x) - (x & y)</code>\n",
    "  correct  "
   ]
  },
  {
   "cell_type": "markdown",
   "metadata": {},
   "source": [
    "## Sets: Question 4\n",
    "1/1 point (graded)\n",
    "\n",
    "Consider again sets <code>x={1,2,3}</code> and <code>y={2,3,4}</code>. Which following lines of code will determine if all elements of <code>x</code> are in <code>y</code>?\n",
    "\n",
    "<code>x.issubset(y)</code> correct"
   ]
  },
  {
   "cell_type": "markdown",
   "metadata": {},
   "source": [
    "# CC 1.2.7: Dictionaries\n",
    "## Dictionaries: Question 1\n",
    "1/1 point (graded)\n",
    "\n",
    "Consider the dictionary:\n",
    "\n",
    "<code>age={'Tim':29, 'Jim':31, 'Pam':27, 'Sam':35}\n",
    "age[0]</code> returns an error. Why?"
   ]
  },
  {
   "cell_type": "markdown",
   "metadata": {},
   "source": [
    "There is no key <code>0</code> in the dictionary. correct"
   ]
  },
  {
   "cell_type": "markdown",
   "metadata": {},
   "source": [
    "## Dictionaries: Question 2\n",
    "1/1 point (graded)\n",
    "\n",
    "Why may you not edit the key <code>\"Tim\"</code> to <code>\"Tom\"</code>?\n",
    "\n",
    "Dictionary keys are not mutable. correct"
   ]
  },
  {
   "cell_type": "markdown",
   "metadata": {},
   "source": [
    "## Dictionaries: Question 3\n",
    "1/1 point (graded)\n",
    "\n",
    "Which of the following data structures may be used as keys in a <code>dict</code>?\n",
    "\n",
    "Strings\n",
    "\n",
    "Tuples"
   ]
  }
 ],
 "metadata": {
  "anaconda-cloud": {},
  "kernelspec": {
   "display_name": "Python [conda env:python3]",
   "language": "python",
   "name": "conda-env-python3-py"
  },
  "language_info": {
   "codemirror_mode": {
    "name": "ipython",
    "version": 3
   },
   "file_extension": ".py",
   "mimetype": "text/x-python",
   "name": "python",
   "nbconvert_exporter": "python",
   "pygments_lexer": "ipython3",
   "version": "3.5.2"
  }
 },
 "nbformat": 4,
 "nbformat_minor": 0
}
