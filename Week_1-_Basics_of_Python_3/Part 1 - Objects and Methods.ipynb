{
 "cells": [
  {
   "cell_type": "markdown",
   "metadata": {},
   "source": [
    "# CC 1.1.1: Python Basics\n",
    "In these Comprehension Checks, we will review a range of Python topics, and do not expect you to know the answer without any aids.  As you answer these questions, feel free to use Python and the internet interactively to get the right answer!\n",
    "\n",
    "## Python Basics: Question 1\n",
    "1/1 point (graded)\n",
    "\n",
    "Python has two operating modes. Which are they?\n",
    "\n",
    "Both of the above correct"
   ]
  },
  {
   "cell_type": "markdown",
   "metadata": {},
   "source": [
    "## Python Basics: Question 2\n",
    "1/1 point (graded)\n",
    "\n",
    "Which version of Python will we focus on in this course?\n",
    "\n",
    "Python 3 correct"
   ]
  },
  {
   "cell_type": "markdown",
   "metadata": {},
   "source": [
    "## Python Basics: Question 3\n",
    "1/1 point (graded)\n",
    "\n",
    "What does it mean for Python 3 to not be backwards-compatible with Python 2?\n",
    "\n",
    "Both of the above correct"
   ]
  },
  {
   "cell_type": "markdown",
   "metadata": {},
   "source": [
    "# CC 1.1.2: Objects\n",
    "\n",
    "## Objects: Question 1\n",
    "1/1 point (graded)\n",
    "\n",
    "What does it mean for an object to be immutable?\n",
    "\n",
    "Its contents cannot be modified by the programmer after the object has been created. correct"
   ]
  },
  {
   "cell_type": "markdown",
   "metadata": {},
   "source": [
    "## Objects: Question 2\n",
    "1/1 point (graded)\n",
    "\n",
    "Consider the following line of code:\n",
    "\n",
    "<code> x = 4 </code>\n",
    "\n",
    "In this assignment, what does the number <code>4</code> represent?\n",
    "\n",
    "The object value. correct"
   ]
  },
  {
   "cell_type": "markdown",
   "metadata": {},
   "source": [
    "## Objects: Question 3\n",
    "1/1 point (graded)\n",
    "\n",
    "What is the difference between methods and data attributes of objects?\n",
    "\n",
    "Methods are functions associated with objects, whereas data attributes are data associated with objects. correct"
   ]
  },
  {
   "cell_type": "markdown",
   "metadata": {},
   "source": [
    "# CC 1.1.3: Modules and Methods\n",
    "\n",
    "## Modules and Methods: Question 1\n",
    "1/1 point (graded)\n",
    "\n",
    "Suppose that <code>math.sqrt</code> and <code>numpy.sqrt</code> had identical behavior. Are they the same function?\n",
    "\n",
    "No. Because they belong to different namespaces, Python treats them separately, regardless of their behavior. correct"
   ]
  },
  {
   "cell_type": "markdown",
   "metadata": {},
   "source": [
    "## Modules and Methods: Question 2\n",
    "1/1 point (graded)\n",
    "\n",
    "When using the import statement, which of the following does NOT occur?\n",
    "\n",
    "Python downloads the specified library if it is not yet available. correct"
   ]
  },
  {
   "cell_type": "markdown",
   "metadata": {},
   "source": [
    "## Modules and Methods: Question 3\n",
    "1/1 point (graded)\n",
    "\n",
    "What is the difference between <code>help()</code> and <code>dir()</code>?\n",
    "\n",
    "<code>help()</code> is defined for methods, whereas <code>dir()</code> is defined for types or objects. correct"
   ]
  },
  {
   "cell_type": "markdown",
   "metadata": {},
   "source": [
    "# CC 1.1.4: Numbers and Basic Calculations\n",
    "\n",
    "## Numbers and Basic Calculations: Question 1\n",
    "1/1 point (graded)\n",
    "\n",
    "Consider the following code in the interactive mode:\n",
    "\n",
    "<code>2+1</code>\n",
    "\n",
    "<code>_*2</code>\n",
    "\n",
    "<code>_**2</code>\n",
    "\n",
    "What is the result?\n",
    "\n",
    "Enter your numeric answer here.\n",
    "\n",
    "\n",
    "36\n",
    "  correct  "
   ]
  },
  {
   "cell_type": "markdown",
   "metadata": {},
   "source": [
    "## Numbers and Basic Calculations: Question 2\n",
    "1/1 point (graded)\n",
    "\n",
    "$n$ factorial is defined as the product of all integers $1,...,n$. Additionally, by definition, $0!≡1$. What is <code>4</code> factorial?\n",
    "\n",
    "Enter your numeric answer here.\n",
    "\n",
    "\n",
    "24\n",
    "  correct  "
   ]
  },
  {
   "cell_type": "markdown",
   "metadata": {},
   "source": [
    "# CC 1.1.5: Random Choice\n",
    "\n",
    "## Random Choice: Question 1\n",
    "1/1 point (graded)\n",
    "\n",
    "True or false: <code>random.choice</code> will not work on immutable types.\n",
    "\n",
    "False: <code>random.choice</code> only requires that the object has several values regardless of mutability. correct"
   ]
  },
  {
   "cell_type": "markdown",
   "metadata": {},
   "source": [
    "# CC 1.1.6: Expressions and Booleans\n",
    "\n",
    "## Expressions and Booleans: Question 1\n",
    "1/1 point (graded)\n",
    "\n",
    "Consider the expression <code>True and not False is True</code>.\n",
    "\n",
    "What will this return?\n",
    "\n",
    "<code>True</code> correct"
   ]
  },
  {
   "cell_type": "markdown",
   "metadata": {},
   "source": [
    "## Expressions and Booleans: Question 2\n",
    "1/1 point (graded)\n",
    "\n",
    "What is the difference between <code>==</code> and <code>is</code>?\n",
    "\n",
    "<code>==</code> tests whether objects have the same value, whereas <code>is</code> tests whether objects have the same identity. correct"
   ]
  }
 ],
 "metadata": {
  "anaconda-cloud": {},
  "kernelspec": {
   "display_name": "Python [conda env:python3]",
   "language": "python",
   "name": "conda-env-python3-py"
  },
  "language_info": {
   "codemirror_mode": {
    "name": "ipython",
    "version": 3
   },
   "file_extension": ".py",
   "mimetype": "text/x-python",
   "name": "python",
   "nbconvert_exporter": "python",
   "pygments_lexer": "ipython3",
   "version": "3.5.2"
  }
 },
 "nbformat": 4,
 "nbformat_minor": 0
}
