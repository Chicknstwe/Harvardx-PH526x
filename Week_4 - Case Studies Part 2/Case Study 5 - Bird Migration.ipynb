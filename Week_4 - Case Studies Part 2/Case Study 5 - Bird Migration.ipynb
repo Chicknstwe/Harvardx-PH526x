{
 "cells": [
  {
   "cell_type": "markdown",
   "metadata": {},
   "source": [
    "# CC: 4.2.2: Simple Data Visualizations\n",
    "## Simple Data Visualizations: Question 1\n",
    "1/1 point (graded)\n",
    "\n",
    "Which <code>pandas</code> function extracts all the unique values in a <code>pd.Series</code>?\n",
    "\n",
    "<code>pd.unique</code> correct"
   ]
  },
  {
   "cell_type": "markdown",
   "metadata": {},
   "source": [
    "# CC: 4.2.3: Examining Flight Speed\n",
    "## Examining Flight Speed: Question 1\n",
    "1/1 point (graded)\n",
    "\n",
    "Which <code>numpy</code> method returns <code>True</code> for values that are not numericals?\n",
    "\n",
    "<code>np.isnan</code> correct"
   ]
  },
  {
   "cell_type": "markdown",
   "metadata": {},
   "source": [
    "## Using Datetime: Question 1\n",
    "1/1 point (graded)\n",
    "\n",
    "What does <code>datetime.datetime.strptime</code> do?\n",
    "\n",
    "Takes in a date and time string, as well as an expected format string, and returns a formatted datetime object. correct"
   ]
  },
  {
   "cell_type": "markdown",
   "metadata": {},
   "source": [
    "## Using Datetime: Question 2\n",
    "1/1 point (graded)\n",
    "\n",
    "How can you find the difference in time between two <code>datetime</code> objects <code>time_1</code> and <code>time_2</code>?\n",
    "\n",
    "<code>time_2 - time_1</code> correct"
   ]
  },
  {
   "cell_type": "markdown",
   "metadata": {},
   "source": [
    "# CC: 4.2.5: Calculating Daily Mean Speed\n",
    "## Calculating Daily Mean Speed: Question 1\n",
    "1/1 point (graded)\n",
    "\n",
    "Read in the <code>bird_tracking.csv</code> data (provided along with Video 4.2.2) and take a look at Sanne's flight times. Which is the earliest recorded timestamp in the dataset for Sanne?\n",
    "\n",
    "<code>2013-08-15 00:01:08</code> correct"
   ]
  },
  {
   "cell_type": "markdown",
   "metadata": {},
   "source": [
    "# CC: 4.2.6: Using the Cartopy Library\n",
    "## Using the Cartopy Library: Question 1\n",
    "1/1 point (graded)\n",
    "\n",
    "Looking at the <code>cartopy</code> plot from Video 4.2.6, do the birds in this dataset prefer to fly over land, sea, or the coast when migrating?\n",
    "\n",
    "The coast correct"
   ]
  }
 ],
 "metadata": {
  "kernelspec": {
   "display_name": "Python [conda env:python3]",
   "language": "python",
   "name": "conda-env-python3-py"
  },
  "language_info": {
   "codemirror_mode": {
    "name": "ipython",
    "version": 3
   },
   "file_extension": ".py",
   "mimetype": "text/x-python",
   "name": "python",
   "nbconvert_exporter": "python",
   "pygments_lexer": "ipython3",
   "version": "3.5.2"
  }
 },
 "nbformat": 4,
 "nbformat_minor": 0
}
