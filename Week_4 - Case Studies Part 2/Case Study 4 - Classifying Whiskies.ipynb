{
 "cells": [
  {
   "cell_type": "markdown",
   "metadata": {},
   "source": [
    "# CC: 4.1.1: Getting Started with Pandas\n",
    "## Getting Started with Pandas: Question 1\n",
    "1/1 point (graded)\n",
    "\n",
    "What is Pandas?\n",
    "\n",
    "A Python library designed to query and manipulate annotated data tables correct"
   ]
  },
  {
   "cell_type": "markdown",
   "metadata": {},
   "source": [
    "## Getting Started with Pandas: Question 2\n",
    "1/1 point (graded)\n",
    "\n",
    "What keyword allows you to specify names to indices in a <code>pd.Series</code>?\n",
    "\n",
    "<code>index</code> correct"
   ]
  },
  {
   "cell_type": "markdown",
   "metadata": {},
   "source": [
    "## Getting Started with Pandas: Question 3\n",
    "0/1 point (graded)\n",
    "\n",
    "In <code>pandas</code>, what does the <code>reindex</code> method do?\n",
    "\n",
    "Renames the indices according to the argument or adds an additional index to the <code>pandas</code> Series object incorrect\n",
    "\n",
    "Reorders the indices of a <code>pandas</code> Series object according to its argument correct"
   ]
  },
  {
   "cell_type": "markdown",
   "metadata": {},
   "source": [
    "# CC: 4.1.2: Loading and Inspecting Data\n",
    "## Loading and Inspecting Data: Question 1\n",
    "1/1 point (graded)\n",
    "\n",
    "What command reads in <code>csv</code> files in <code>pandas</code>?\n",
    "\n",
    "<code>pd.read_csv</code> correct"
   ]
  },
  {
   "cell_type": "markdown",
   "metadata": {},
   "source": [
    "# CC: 4.1.3: Exploring Correlations\n",
    "## Exploring Correlations: Question 1\n",
    "1/1 point (graded)\n",
    "\n",
    "How can you find a correlation matrix of a <code>pd.Dataframe</code>?\n",
    "\n",
    "<code>pd.DataFrame.corr</code> correct"
   ]
  },
  {
   "cell_type": "markdown",
   "metadata": {},
   "source": [
    "## Exploring Correlations: Question 2\n",
    "0/1 point (graded)\n",
    "\n",
    "How can you plot a correlation matrix by color?\n",
    "\n",
    "<code>plt.color</code> incorrect\n",
    "\n",
    "<code>plt.pcolor</code> correct"
   ]
  },
  {
   "cell_type": "markdown",
   "metadata": {},
   "source": [
    "## Exploring Correlations: Question 3\n",
    "1/1 point (graded)\n",
    "\n",
    "What is the <code>matplotlib.pyplot</code> function that plots a colorbar on the side of a plot?\n",
    "\n",
    "<code>plt.colorbar()</code> correct"
   ]
  },
  {
   "cell_type": "markdown",
   "metadata": {},
   "source": [
    "# CC: 4.1.4: Clustering Whiskies By Flavor Profile\n",
    "## Clustering Whiskies By Flavor Profile: Question 1\n",
    "1/1 point (graded)\n",
    "\n",
    "What is spectral co-clustering?\n",
    "\n",
    "A method for finding clusters of objects by the similarity of their attributes correct"
   ]
  },
  {
   "cell_type": "markdown",
   "metadata": {},
   "source": [
    "## Clustering Whiskies By Flavor Profile: Question 2\n",
    "1/1 point (graded)\n",
    "\n",
    "How many clusters do we find in the whisky dataset used in Video 4.1.4?\n",
    "\n",
    "6 correct"
   ]
  },
  {
   "cell_type": "markdown",
   "metadata": {},
   "source": [
    "# CC: 4.1.5: Comparing Correlation Matrices\n",
    "## Comparing Correlation Matrices: Question 1\n",
    "0/1 point (graded)\n",
    "\n",
    "Consider the following code:\n",
    "\n",
    "<code>import pandas as pd \n",
    "data = pd.Series([1,2,3,4]) \n",
    "data = data.ix[[3,0,1,2]]</code>\n",
    "\n",
    "What does <code>data[0]</code> return? Why?\n",
    "\n",
    "<code>3 : data.ix</code> resets the Series to the values given as the argument. incorrect\n",
    "\n",
    "<code>1 : data.ix</code> alters the order of appearance, but leaves the indices the same. correct"
   ]
  },
  {
   "cell_type": "markdown",
   "metadata": {},
   "source": [
    "## Comparing Correlation Matrices: Question 2\n",
    "1/1 point (graded)\n",
    "\n",
    "Consider the following code:\n",
    "\n",
    "<code>import pandas as pd \n",
    "data = pd.Series([1,2,3,4]) \n",
    "data = data.ix[[3,0,1,2]] \n",
    "data = data.reset_index(drop=True)</code>\n",
    "\n",
    "What does <code>data[0]</code> return? Why?\n",
    "\n",
    "<code>4 :</code> The 0th index of the data has been reordered to index 3 of the original, which is 4. correct"
   ]
  }
 ],
 "metadata": {
  "anaconda-cloud": {},
  "kernelspec": {
   "display_name": "Python [conda env:python3]",
   "language": "python",
   "name": "conda-env-python3-py"
  },
  "language_info": {
   "codemirror_mode": {
    "name": "ipython",
    "version": 3
   },
   "file_extension": ".py",
   "mimetype": "text/x-python",
   "name": "python",
   "nbconvert_exporter": "python",
   "pygments_lexer": "ipython3",
   "version": "3.5.2"
  }
 },
 "nbformat": 4,
 "nbformat_minor": 0
}
