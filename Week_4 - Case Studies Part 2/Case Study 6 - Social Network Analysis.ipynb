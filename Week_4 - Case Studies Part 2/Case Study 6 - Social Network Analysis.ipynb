{
 "cells": [
  {
   "cell_type": "markdown",
   "metadata": {},
   "source": [
    "# CC: 4.3.1: Introduction to Network Analysis\n",
    "## Introduction to Network Analysis: Question 1\n",
    "1/1 point (graded)\n",
    "\n",
    "What is a path in a network?\n",
    "\n",
    "A sequence of edges connecting two nodes correct"
   ]
  },
  {
   "cell_type": "markdown",
   "metadata": {},
   "source": [
    "## Introduction to Network Analysis: Question 2\n",
    "1/1 point (graded)\n",
    "\n",
    "What is a connected component in a network?\n",
    "\n",
    "A group of nodes and their edges for which a path exists between each node in the component correct"
   ]
  },
  {
   "cell_type": "markdown",
   "metadata": {},
   "source": [
    "# CC: 4.3.2: Basics of NetworkX\n",
    "## Basics of NetworkX: Question 1\n",
    "1/1 point (graded)\n",
    "\n",
    "Consider the following code:\n",
    "\n",
    "<code>G = nx.Graph() \n",
    "G.add_nodes_from(1,2,3,4) \n",
    "G.add_edges_from((1,2),(3,4)) \n",
    "G.number_of_nodes(), G.number_of_edges()</code>\n",
    "\n",
    "What does this return?\n",
    "\n",
    "This code contains an error. correct"
   ]
  },
  {
   "cell_type": "markdown",
   "metadata": {},
   "source": [
    "# CC: 4.3.3: Graph Visualization\n",
    "## Graph Visualization: Question 1\n",
    "1/1 point (graded)\n",
    "\n",
    "How many nodes and edges are included in the karate club network (as described in Video 4.3.3)?\n",
    "\n",
    "34 nodes, 78 edges correct"
   ]
  },
  {
   "cell_type": "markdown",
   "metadata": {},
   "source": [
    "## Graph Visualization: Question 2\n",
    "1/1 point (graded)\n",
    "\n",
    "What does <code>G.degree(0) is G.degree()[0]</code> return?\n",
    "\n",
    "True correct"
   ]
  },
  {
   "cell_type": "markdown",
   "metadata": {},
   "source": [
    "# Graph Visualization: Question 3\n",
    "1/1 point (graded)\n",
    "\n",
    "Which function in <code>networkx</code> (imported as <code>nx</code>) plots a network?\n",
    "\n",
    "nx.draw correct"
   ]
  },
  {
   "cell_type": "markdown",
   "metadata": {},
   "source": [
    "# CC: 4.3.4: Random Graphs\n",
    "## Random Graphs: Question 1\n",
    "1/1 point (graded)\n",
    "\n",
    "How many components do you expect in an Erdős-Rényi graph with <code>n=10</code> and <code>p=1</code>?\n",
    "\n",
    "1 correct"
   ]
  },
  {
   "cell_type": "markdown",
   "metadata": {},
   "source": [
    "## Random Graphs: Question 2\n",
    "1/1 point (graded)\n",
    "\n",
    "How many components do you expect in an Erdős-Rényi graph with <code>n=10</code> and <code>p=0</code>?\n",
    "\n",
    "10 correct"
   ]
  },
  {
   "cell_type": "markdown",
   "metadata": {},
   "source": [
    "# CC: 4.3.5: Plotting the Degree Distribution\n",
    "## Plotting the Degree Distribution: Question 1\n",
    "1/1 point (graded)\n",
    "\n",
    "Consider the following code:\n",
    "\n",
    "<code>D = {1:1, 2:2, 3:3} \n",
    "plt.hist(D)</code>\n",
    "\n",
    "What will this plot?\n",
    "\n",
    "This code contains an error. correct"
   ]
  },
  {
   "cell_type": "markdown",
   "metadata": {},
   "source": [
    "## Plotting the Degree Distribution: Question 2\n",
    "1/1 point (graded)\n",
    "\n",
    "How do the degree distributions in <code>nx.erdos_renyi_graph(100, 0.03)</code> and <code>nx.erdos_renyi_graph(100, 0.30)</code> compare?\n",
    "\n",
    "The latter distribution has a greater mean on average. correct"
   ]
  },
  {
   "cell_type": "markdown",
   "metadata": {},
   "source": [
    "# CC: 4.3.6: Descriptive Statistics of Empirical Social Networks\n",
    "## Descriptive Statistics: Question 1\n",
    "1/1 point (graded)\n",
    "\n",
    "As described in Video 4.3.6, which network has more nodes?\n",
    "\n",
    "<code>G2</code> correct"
   ]
  },
  {
   "cell_type": "markdown",
   "metadata": {},
   "source": [
    "## Descriptive Statistics: Question 2\n",
    "1/1 point (graded)\n",
    "\n",
    "As described in Video 4.3.6, which network has more edges?\n",
    "\n",
    "<code>G1</code> correct"
   ]
  },
  {
   "cell_type": "markdown",
   "metadata": {},
   "source": [
    "# CC: 4.3.7: Finding the Largest Connected Component\n",
    "## Finding the Largest Connected Component: Question 1\n",
    "1 point possible (graded)\n",
    "\n",
    "For an iterator object <code>X</code>, what does <code>X.__next__()</code> do?\n",
    "\n",
    "Returns the next iterator, if it exists incorrect\n",
    "\n",
    "Returns the next value in <code>X</code>, if it exists correct"
   ]
  },
  {
   "cell_type": "markdown",
   "metadata": {},
   "source": [
    "## Finding the Largest Connected Component: Question 2\n",
    "1/1 point (graded)\n",
    "\n",
    "For a given network <code>G</code>, what does <code>len(G)</code> return?\n",
    "\n",
    "The number of nodes correct"
   ]
  },
  {
   "cell_type": "markdown",
   "metadata": {},
   "source": [
    "## Finding the Largest Connected Component: Question 3\n",
    "1/1 point (graded)\n",
    "\n",
    "Graphs <code>G1</code> and <code>G2</code> are defined as in Video 4.3.7.\n",
    "\n",
    "Which graph contains the largest connected component?\n",
    "\n",
    "<code>G1</code> correct"
   ]
  },
  {
   "cell_type": "markdown",
   "metadata": {},
   "source": [
    "## Finding the Largest Connected Component: Question 4\n",
    "1/1 point (graded)\n",
    "\n",
    "Graphs <code>G1</code> and <code>G2</code> are defined as in Video 4.3.7.\n",
    "\n",
    "Which graph contains the greatest fraction of its nodes in its largest connected component?\n",
    "\n",
    "<code>G1</code> correct"
   ]
  }
 ],
 "metadata": {
  "kernelspec": {
   "display_name": "Python [conda env:python3]",
   "language": "python",
   "name": "conda-env-python3-py"
  },
  "language_info": {
   "codemirror_mode": {
    "name": "ipython",
    "version": 3
   },
   "file_extension": ".py",
   "mimetype": "text/x-python",
   "name": "python",
   "nbconvert_exporter": "python",
   "pygments_lexer": "ipython3",
   "version": "3.5.2"
  }
 },
 "nbformat": 4,
 "nbformat_minor": 0
}
