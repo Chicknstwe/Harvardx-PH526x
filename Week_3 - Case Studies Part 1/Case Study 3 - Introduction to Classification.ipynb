{
 "cells": [
  {
   "cell_type": "markdown",
   "metadata": {},
   "source": [
    "# CC: 3.3.1: Introduction to kNN Classification\n",
    "## Introduction to kNN Classification: Question 1\n",
    "1/1 point (graded)\n",
    "\n",
    "How does the k-Nearest Neighbors classifier classify observations?\n",
    "\n",
    "According to the most common class among the nearest k neighbors correct"
   ]
  },
  {
   "cell_type": "markdown",
   "metadata": {},
   "source": [
    "# CC: 3.3.2: Finding the Distance Between Two Points\n",
    "## Finding Distance: Question 1\n",
    "1/1 point (graded)\n",
    "\n",
    "How is the distance measure we use (as in Video 3.3.2) defined between points <code>(a1, b1)</code> and <code>(a2, b2)</code>?\n",
    "\n",
    "$\\sqrt{(a_1 - a_2)^2 + (b_1 - b_2)^2}$ correct"
   ]
  },
  {
   "cell_type": "markdown",
   "metadata": {},
   "source": [
    "# CC 3.3.3: Majority Vote\n",
    "## Majority Vote: Question 1\n",
    "1/1 point (graded)\n",
    "\n",
    "What does the <code>items</code> method for dictionaries return?\n",
    "\n",
    "A <code>dict_items</code> object with elements consisting of tuples of key, value pairs correct"
   ]
  },
  {
   "cell_type": "markdown",
   "metadata": {},
   "source": [
    "## Majority Vote: Question 2\n",
    "1/1 point (graded)\n",
    "\n",
    "What will <code>random.choice()</code> return for a list containing only one object? (Assume that the <code>random</code> module has already been imported.)\n",
    "\n",
    "This code returns the single element every time. correct"
   ]
  },
  {
   "cell_type": "markdown",
   "metadata": {},
   "source": [
    "# CC: 3.3.4: Finding Nearest Neighbors\n",
    "## Finding Nearest Neighbors: Question 1\n",
    "1/1 point (graded)\n",
    "\n",
    "For an <code>np.array</code> of dimension 2, what does the <code>shape</code> method return?\n",
    "\n",
    "A tuple containing the number of rows and columns correct"
   ]
  },
  {
   "cell_type": "markdown",
   "metadata": {},
   "source": [
    "## Finding Nearest Neighbors: Question 2\n",
    "1/1 point (graded)\n",
    "\n",
    "What does <code>np.argsort</code> do?\n",
    "\n",
    "It sorts an array according to a single argument and returns the sorted indices. correct"
   ]
  },
  {
   "cell_type": "markdown",
   "metadata": {},
   "source": [
    "# CC: 3.3.5: Generating Synthetic Data\n",
    "## Generating Synthetic Data: Question 1\n",
    "1/1 point (graded)\n",
    "\n",
    "What does <code>np.concatenate</code> do?\n",
    "\n",
    "Takes in a tuple of <code>np.arrays</code> and joins them lengthwise along the specified axis correct"
   ]
  },
  {
   "cell_type": "markdown",
   "metadata": {},
   "source": [
    "## Generating Synthetic Data: Question 2\n",
    "1/1 point (graded)\n",
    "\n",
    "Do you expect the k-Nearest Neighbors to categorize new values in the synthetic data perfectly?\n",
    "\n",
    "No, because the data contain some observations with a majority of neighbors in another category. correct"
   ]
  },
  {
   "cell_type": "markdown",
   "metadata": {},
   "source": [
    "# CC: 3.3.6: Making a Prediction Grid\n",
    "## Making a Prediction Grid: Question 1\n",
    "1/1 point (graded)\n",
    "\n",
    "What does <code>np.arange</code> do?\n",
    "\n",
    "Creates regularly spaced values between the first and second argument, with spacing given in the third argument correct"
   ]
  },
  {
   "cell_type": "markdown",
   "metadata": {},
   "source": [
    "## Making a Prediction Grid: Question 2\n",
    "1/1 point (graded)\n",
    "\n",
    "What does <code>enumerate</code> do?\n",
    "\n",
    "Takes an iterable and returns a new iterable with tuples as elements, where the first index of each tuple is the index of the tuple in the iterable correct"
   ]
  },
  {
   "cell_type": "markdown",
   "metadata": {},
   "source": [
    "# CC: 3.3.8: Applying the kNN Method\n",
    "## Applying the kNN Method: Question 1\n",
    "1/1 point (graded)\n",
    "\n",
    "What are the four variables in the <code>iris</code> dataset described in Video 3.3.8?\n",
    "\n",
    "Sepal length, sepal width, petal length, petal width correct"
   ]
  },
  {
   "cell_type": "markdown",
   "metadata": {},
   "source": [
    "## Applying the kNN Method: Question 2\n",
    "1/1 point (graded)\n",
    "\n",
    "How many different species are contained in the <code>iris</code> dataset described in Video 3.3.8?\n",
    "\n",
    "3 correct"
   ]
  },
  {
   "cell_type": "markdown",
   "metadata": {},
   "source": [
    "## Applying the kNN Method: Question 3\n",
    "1/1 point (graded)\n",
    "\n",
    "How often do the predictions from the homemade and <code>scikit-learn</code> kNN classifiers accurately predict the class of the data in the <code>iris</code> dataset described in Video 3.3.8?\n",
    "\n",
    "Approximately 85% of the time correct"
   ]
  }
 ],
 "metadata": {
  "kernelspec": {
   "display_name": "Python [conda env:python3]",
   "language": "python",
   "name": "conda-env-python3-py"
  },
  "language_info": {
   "codemirror_mode": {
    "name": "ipython",
    "version": 3
   },
   "file_extension": ".py",
   "mimetype": "text/x-python",
   "name": "python",
   "nbconvert_exporter": "python",
   "pygments_lexer": "ipython3",
   "version": "3.5.2"
  }
 },
 "nbformat": 4,
 "nbformat_minor": 0
}
