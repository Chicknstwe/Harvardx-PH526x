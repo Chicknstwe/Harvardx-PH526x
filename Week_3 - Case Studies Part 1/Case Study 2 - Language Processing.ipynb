{
 "cells": [
  {
   "cell_type": "markdown",
   "metadata": {},
   "source": [
    "# CC: 3.2.1: Introduction to Language Processing\n",
    "## Introduction to Language Processing: Question 1\n",
    "1/1 point (graded)\n",
    "\n",
    "What is Project Gutenberg?\n",
    "\n",
    "An online repository of publically available books in many languages. correct"
   ]
  },
  {
   "cell_type": "markdown",
   "metadata": {},
   "source": [
    "# CC: 3.2.2: Counting Words\n",
    "## Counting Words: Question 1\n",
    "0/1 point (graded)\n",
    "\n",
    "The function <code>count_words</code> is as defined in Video 3.2.2.\n",
    "\n",
    "Consider the following code:\n",
    "\n",
    "<code>len(count_words(\"This comprehension check is to check for comprehension.\"))</code>\n",
    "\n",
    "What does this return?\n",
    "\n",
    "8 incorrect\n",
    "\n",
    "6 correct\n",
    "\n",
    "**Explanation**\n",
    "\n",
    "<code>count_words</code> is defined in Video 3.2.2 counts the number of unique words in a text - in this case, 6."
   ]
  },
  {
   "cell_type": "markdown",
   "metadata": {},
   "source": [
    "## Counting Words: Question 2\n",
    "0/1 point (graded)\n",
    "\n",
    "The functions <code>count_words</code> and <code>count_words_fast</code> are as defined in Video 3.2.2. Consider the following code:\n",
    "\n",
    "<code>count_words(text) is count_words_fast(text)</code>\n",
    "What does this return?\n",
    "\n",
    "True incorrect\n",
    "\n",
    "False correct\n",
    "\n",
    "**Explanation**\n",
    "\n",
    "While the two provide the same results, they are different objects in memory."
   ]
  },
  {
   "cell_type": "markdown",
   "metadata": {},
   "source": [
    "# CC: 3.2.4: Computing Word Frequency Statistics\n",
    "## Computing Word Frequency Statistics: Question 1\n",
    "1/1 point (graded)\n",
    "\n",
    "As defined in Video 3.2.4, which of the following does the function <code>word_stats</code> return?\n",
    "\n",
    "The number of unique words\n",
    "\n",
    "A list of word counts"
   ]
  },
  {
   "cell_type": "markdown",
   "metadata": {},
   "source": [
    "## Computing Word Frequency Statistics: Question 2\n",
    "1/1 point (graded)\n",
    "\n",
    "Which of the two versions of Romeo and Juliet from Project Gutenberg contains more unique words, the original or the German translation?\n",
    "\n",
    "The German translation correct"
   ]
  },
  {
   "cell_type": "markdown",
   "metadata": {},
   "source": [
    "# CC: 3.2.5: Reading Multiple Files\n",
    "## Reading Multiple Files: Question 1\n",
    "1/1 point (graded)\n",
    "\n",
    "What type of object does <code>os.listdir</code> return?\n",
    "\n",
    "list correct"
   ]
  },
  {
   "cell_type": "markdown",
   "metadata": {},
   "source": [
    "## Reading Multiple Files: Question 2\n",
    "1/1 point (graded)\n",
    "\n",
    "What <code>pandas</code> method allows you to insert a row to a dataframe?\n",
    "\n",
    "<code>loc</code> correct"
   ]
  },
  {
   "cell_type": "markdown",
   "metadata": {},
   "source": [
    "## Reading Multiple Files: Question 3\n",
    "1/1 point (graded)\n",
    "\n",
    "How can you increase a numerical <code>title_num</code> value by 1?\n",
    "\n",
    "title_num += 1"
   ]
  },
  {
   "cell_type": "markdown",
   "metadata": {},
   "source": [
    "## Reading Multiple Files: Question 4\n",
    "1/1 point (graded)\n",
    "\n",
    "How can you retrieve the first and last few rows of a <code>pandas</code> dataframe called <code>stats</code>?\n",
    "\n",
    "<code>stats.head()</code> and <code>stats.tail()</code> correct"
   ]
  },
  {
   "cell_type": "markdown",
   "metadata": {},
   "source": [
    "# CC: 3.2.6: Plotting Book Statistics\n",
    "## Plotting Book Statistics: Question 1\n",
    "1/1 point (graded)\n",
    "\n",
    "<code>stats</code> is a Pandas dataframe as defined in Video 3.2.6. How can you access the column <code>\"length\"</code> in this dataframe?\n",
    "\n",
    "<code>stats.length</code>\n",
    "\n",
    "<code>stats[\"length\"]</code>"
   ]
  },
  {
   "cell_type": "markdown",
   "metadata": {},
   "source": [
    "## Plotting Book Statistics: Question 2\n",
    "1/1 point (graded)\n",
    "\n",
    "<code>stats</code> is a Pandas dataframe as defined in Video 3.2.6. How can you select only the rows where the language is French?\n",
    "\n",
    "<code>stats[stats.language == \"French\"]</code> correct"
   ]
  }
 ],
 "metadata": {
  "kernelspec": {
   "display_name": "Python [conda env:python3]",
   "language": "python",
   "name": "conda-env-python3-py"
  },
  "language_info": {
   "codemirror_mode": {
    "name": "ipython",
    "version": 3
   },
   "file_extension": ".py",
   "mimetype": "text/x-python",
   "name": "python",
   "nbconvert_exporter": "python",
   "pygments_lexer": "ipython3",
   "version": "3.5.2"
  }
 },
 "nbformat": 4,
 "nbformat_minor": 0
}
