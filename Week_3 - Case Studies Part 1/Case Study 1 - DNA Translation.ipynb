{
 "cells": [
  {
   "cell_type": "markdown",
   "metadata": {},
   "source": [
    "# CC 3.1.1: Introduction to DNA Translation\n",
    "\n",
    "## Introduction to DNA Translation: Question 1\n",
    "1/1 point (graded)\n",
    "\n",
    "Which of the following is NOT a nucleotide?\n",
    "\n",
    "Lysine correct"
   ]
  },
  {
   "cell_type": "markdown",
   "metadata": {},
   "source": [
    "## Introduction to DNA Translation: Question 2\n",
    "1/1 point (graded)\n",
    "\n",
    "What is the central dogma of molecular biology that describes the basic flow of genetic information?\n",
    "\n",
    "DNA -> RNA -> Protein correct"
   ]
  },
  {
   "cell_type": "markdown",
   "metadata": {},
   "source": [
    "# CC 3.1.2: Downloading DNA Data\n",
    "## Downloading DNA Data: Question 1\n",
    "\n",
    "1/1 point (graded)\n",
    "\n",
    "According to NCBI, what are the first 10 nucleotides of the gene with accession number NM_201917.1?\n",
    "\n",
    "gtaacaacca correct"
   ]
  },
  {
   "cell_type": "markdown",
   "metadata": {},
   "source": [
    "# CC 3.1.3: Importing DNA Data Into Python\n",
    "## Importing DNA Data Into Python: Question 1\n",
    "1/1 point (graded)\n",
    "\n",
    "For a string <code>text</code> , what does the string method <code>text.replace(\"X\",\"Y\")</code> do?\n",
    "\n",
    "It is a method that creates a new string by replacing all instances of <code>\"X\"</code> in the string with <code>\"Y\"</code> . correct"
   ]
  },
  {
   "cell_type": "markdown",
   "metadata": {},
   "source": [
    "# CC 3.1.4: Translating the DNA Sequence\n",
    "## Translating the DNA Sequence: Question 1\n",
    "1/1 point (graded)\n",
    "\n",
    "<code>table</code> is as defined as in Video 3.1.4. The file <code>table.py</code> is available for download below the video. What is <code>table[\"GCC\"]</code>?\n",
    "\n",
    "<code>A</code> correct"
   ]
  },
  {
   "cell_type": "markdown",
   "metadata": {},
   "source": [
    "## Translating the DNA Sequence: Question 2\n",
    "1/1 point (graded)\n",
    "\n",
    "What is <code>138 % 13</code>?\n",
    "\n",
    "<code>8</code> correct"
   ]
  },
  {
   "cell_type": "markdown",
   "metadata": {},
   "source": [
    "## Translating the DNA Sequence: Question 3\n",
    "1/1 point (graded)\n",
    "\n",
    "Open a session of Python and follow the instructions in Video 3.1.2 to read in the NCBI DNA sequence with the accession number <code>NM_207618.2</code> and store as <code>seq</code>. What does <code>seq[40:50]</code> return?\n",
    "\n",
    "<code>CCTGAAAACC</code> correct"
   ]
  },
  {
   "cell_type": "markdown",
   "metadata": {},
   "source": [
    "## Translating the DNA Sequence: Question 4\n",
    "1/1 point (graded)\n",
    "\n",
    "What is a docstring?\n",
    "\n",
    "A string that describes details about a module, function, class, or method accessed by <code>help()</code> correct"
   ]
  },
  {
   "cell_type": "markdown",
   "metadata": {},
   "source": [
    "# CC 3.1.5: Comparing Your Translation\n",
    "## Comparing Your Translation: Question 1\n",
    "1/1 point (graded)\n",
    "\n",
    "What does the <code>with</code> statement do?\n",
    "\n",
    "It opens a file and uses it for the subsequent block of code only, and then closes the file. correct"
   ]
  },
  {
   "cell_type": "markdown",
   "metadata": {},
   "source": [
    "## Comparing Your Translation: Question 2\n",
    "1 point possible (graded)\n",
    "\n",
    "Recall the final part of Video 3.1.5 regarding slicing. <code>translate</code> and <code>dna</code> are both as defined in that video.\n",
    "\n",
    "What does <code>translate(dna[20:938])[:-1] == translate(dna[20:935])</code> return?\n",
    "\n",
    "False incorrect\n",
    "\n",
    "True correct"
   ]
  }
 ],
 "metadata": {
  "anaconda-cloud": {},
  "kernelspec": {
   "display_name": "Python [conda env:python3]",
   "language": "python",
   "name": "conda-env-python3-py"
  },
  "language_info": {
   "codemirror_mode": {
    "name": "ipython",
    "version": 3
   },
   "file_extension": ".py",
   "mimetype": "text/x-python",
   "name": "python",
   "nbconvert_exporter": "python",
   "pygments_lexer": "ipython3",
   "version": "3.5.2"
  }
 },
 "nbformat": 4,
 "nbformat_minor": 0
}
